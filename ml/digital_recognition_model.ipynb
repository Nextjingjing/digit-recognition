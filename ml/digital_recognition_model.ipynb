{
 "cells": [
  {
   "cell_type": "code",
   "execution_count": null,
   "id": "0636af0e",
   "metadata": {},
   "outputs": [],
   "source": [
    "from sklearn.datasets import load_digits\n",
    "import pandas as pd\n",
    "import seaborn as sns\n",
    "import matplotlib.pyplot as plt"
   ]
  },
  {
   "cell_type": "markdown",
   "id": "612ff888",
   "metadata": {},
   "source": [
    "# Dataset\n",
    "##### - ข้อมูลที่ใช้\n",
    "##### - การตรวจสอบข้อมูล\n",
    "##### - Visualization\n",
    "    "
   ]
  },
  {
   "cell_type": "code",
   "execution_count": null,
   "id": "75ec0197",
   "metadata": {},
   "outputs": [],
   "source": [
    "# คำอธิบาย Dataset\n",
    "\n",
    "dataset = load_digits()\n",
    "print(dataset.DESCR)"
   ]
  },
  {
   "cell_type": "code",
   "execution_count": null,
   "id": "1cf4a370",
   "metadata": {},
   "outputs": [],
   "source": [
    "dataset.keys() # จริงๆ แล้วเรามี dataframe ที่ scikit-learn ใช้ได้แล้วตรง dataset.data แล้ว"
   ]
  },
  {
   "cell_type": "code",
   "execution_count": null,
   "id": "da5eb179",
   "metadata": {},
   "outputs": [],
   "source": [
    "dataset.images[0 : 2]"
   ]
  },
  {
   "cell_type": "code",
   "execution_count": null,
   "id": "999f0ef0",
   "metadata": {},
   "outputs": [],
   "source": [
    "dataset.images.shape # (1797, 8, 8) เรามีรููปตัวเลขทั้งหมด 1797 แต่ละรูปเป็น 8x8 pixel"
   ]
  },
  {
   "cell_type": "code",
   "execution_count": null,
   "id": "155c2cb3",
   "metadata": {},
   "outputs": [],
   "source": [
    "dataset.images[0] # image ของตัวเลขในรูปแบบ Array 2 มิติ"
   ]
  },
  {
   "cell_type": "code",
   "execution_count": null,
   "id": "cffe4f33",
   "metadata": {},
   "outputs": [],
   "source": [
    "dataset.target[0] # คำตอบของ image"
   ]
  },
  {
   "cell_type": "code",
   "execution_count": null,
   "id": "afd8139e",
   "metadata": {},
   "outputs": [],
   "source": [
    "plt.imshow(dataset.images[0], cmap='gray_r')\n",
    "plt.axis('off')\n",
    "plt.title(f\"{dataset.target[0]}\")\n",
    "plt.show()"
   ]
  },
  {
   "cell_type": "code",
   "execution_count": null,
   "id": "c0f916f7",
   "metadata": {},
   "outputs": [],
   "source": [
    "i = int(input(f\"Enter index 0-{len(dataset.images) -1 }\"))\n",
    "plt.imshow(dataset.images[i], cmap='gray_r')\n",
    "plt.axis('off')\n",
    "plt.title(f\"{dataset.target[i]}\")\n",
    "plt.show()"
   ]
  },
  {
   "cell_type": "code",
   "execution_count": null,
   "id": "9deffb4b",
   "metadata": {},
   "outputs": [],
   "source": [
    "# การเตรียมข้อมูล\n",
    "df = pd.DataFrame(dataset.images.reshape((len(dataset.images), -1))) # แปลงเป็น 1797 row และมี\n",
    "df[\"target\"] = dataset.target"
   ]
  },
  {
   "cell_type": "code",
   "execution_count": null,
   "id": "91d60ea1",
   "metadata": {},
   "outputs": [],
   "source": [
    "df"
   ]
  },
  {
   "cell_type": "code",
   "execution_count": null,
   "id": "52cb2452",
   "metadata": {},
   "outputs": [],
   "source": [
    "df.isnull().sum() # ไม่มี null"
   ]
  },
  {
   "cell_type": "code",
   "execution_count": null,
   "id": "c1a55613",
   "metadata": {},
   "outputs": [],
   "source": [
    "from sklearn.decomposition import PCA # ใช้ PCA เพื่อดูการจัดกลุ่มข้อมูลเพราะเรามีแกน X 8x8 มิติ และแกน Y 1 มิติ\n",
    "\n",
    "X = df.drop('target', axis=1)\n",
    "y = df['target']\n",
    "\n",
    "pca = PCA(n_components=2)\n",
    "X_pca = pca.fit_transform(X)\n",
    "\n",
    "plt.figure(figsize=(10,8))\n",
    "scatter = plt.scatter(X_pca[:, 0], X_pca[:, 1], c=y, cmap='tab10', alpha=0.7)\n",
    "plt.legend(*scatter.legend_elements(), title=\"Digits\")\n",
    "plt.title(\"PCA Visualization of Digits Dataset\")\n",
    "plt.xlabel(\"PCA 1\")\n",
    "plt.ylabel(\"PCA 2\")\n",
    "plt.show() # จะเห็นว่าการกระจายตัวของข้อมูลจะติดๆกัน\n"
   ]
  },
  {
   "cell_type": "code",
   "execution_count": null,
   "id": "2ec38a73",
   "metadata": {},
   "outputs": [],
   "source": [
    "fig, axes = plt.subplots(1, 2, figsize=(6, 3))\n",
    "\n",
    "axes[0].imshow(dataset.images[5], cmap='gray_r')\n",
    "axes[0].axis('off')\n",
    "axes[0].set_title(f\"{dataset.target[5]}\")\n",
    "\n",
    "axes[1].imshow(dataset.images[9], cmap='gray_r')\n",
    "axes[1].axis('off')\n",
    "axes[1].set_title(f\"{dataset.target[9]}\")\n",
    "\n",
    "plt.show() # จะเห็นว่า 5 และ 9 มีความคล้ายกันอยู่"
   ]
  },
  {
   "cell_type": "markdown",
   "id": "bd892c3d",
   "metadata": {},
   "source": [
    "# Train Model and Evaluation\n",
    "#### - การเลือกโมเดล\n",
    "#### - การ Train โมเดล\n",
    "#### - การประเมินโมเดล"
   ]
  },
  {
   "cell_type": "code",
   "execution_count": null,
   "id": "45afe1b6",
   "metadata": {},
   "outputs": [],
   "source": [
    "# การแยก data train และ test\n",
    "from sklearn.model_selection import train_test_split\n",
    "X_train, X_test, y_train, y_test = train_test_split(X, y, test_size=0.2, random_state=42) # smaple 20 % มา test โมเดล\n",
    "print(f\"Number of X_train's rows: {X_train.shape[0]}\")\n",
    "print(f\"Number of X_test's rows: {X_test.shape[0]}\")"
   ]
  },
  {
   "cell_type": "code",
   "execution_count": null,
   "id": "25c9a11a",
   "metadata": {},
   "outputs": [],
   "source": [
    "# การเลือกโมเดล KNeighbors เพราะเหมาะสมมากที่สุด\n",
    "from sklearn.model_selection import cross_val_score\n",
    "from sklearn.neighbors import KNeighborsClassifier\n",
    "\n",
    "model = KNeighborsClassifier(n_neighbors=3)\n",
    "\n",
    "scores = cross_val_score(model, X_train, y_train, cv=5, scoring='accuracy')\n",
    "\n",
    "print(\"Cross-validation scores:\", [f\"{score:.3f}\" for score in scores])\n",
    "print(f\"Average accuracy: {scores.mean():.3f}\") # จะเห็นได้ว่าค่า k = 3 ได้ Average accuracy: 0.985"
   ]
  },
  {
   "cell_type": "code",
   "execution_count": null,
   "id": "65a3736b",
   "metadata": {},
   "outputs": [],
   "source": [
    "avg_scores = []\n",
    "\n",
    "for k in range(3, 21):\n",
    "    model = KNeighborsClassifier(n_neighbors=k)\n",
    "    scores = cross_val_score(model, X_train, y_train, cv=5, scoring='accuracy')\n",
    "    avg_scores.append(scores.mean())\n",
    "\n",
    "avg_scores"
   ]
  },
  {
   "cell_type": "code",
   "execution_count": null,
   "id": "f848e89b",
   "metadata": {},
   "outputs": [],
   "source": [
    "sns.set_style(\"darkgrid\")\n",
    "plt.figure(figsize=(10, 5))\n",
    "plt.bar(range(3, 21), avg_scores)\n",
    "plt.xlabel(\"Number of Neighbors (k)\")\n",
    "plt.ylabel(\"Average Accuracy (5-Fold CV)\")\n",
    "plt.title(\"KNN Accuracy with Varying k\")\n",
    "plt.xticks(range(1, 21))\n",
    "margin = 0.1 * (max(avg_scores) - min(avg_scores))\n",
    "plt.ylim(min(avg_scores) - margin, max(avg_scores) + margin)\n",
    "plt.show() # ดังกราฟค่า k ที่ดีที่สุดคือ 3"
   ]
  },
  {
   "cell_type": "code",
   "execution_count": null,
   "id": "200ac0ac",
   "metadata": {},
   "outputs": [],
   "source": [
    "# Train Model\n",
    "\n",
    "model = KNeighborsClassifier(n_neighbors=3)\n",
    "model.fit(X_train, y_train)"
   ]
  },
  {
   "cell_type": "code",
   "execution_count": null,
   "id": "136edce8",
   "metadata": {},
   "outputs": [],
   "source": [
    "# การประเมินโมเดล\n",
    "from sklearn.metrics import confusion_matrix\n",
    "\n",
    "y_pred = model.predict(X_test)\n",
    "cm = confusion_matrix(y_test, y_pred)\n",
    "cm"
   ]
  },
  {
   "cell_type": "code",
   "execution_count": null,
   "id": "9de2321c",
   "metadata": {},
   "outputs": [],
   "source": [
    "from sklearn.metrics import accuracy_score, precision_score, recall_score, f1_score\n",
    "\n",
    "print(\"Accuracy:\", round(accuracy_score(y_test, y_pred), 3))\n",
    "print(\"Precision:\", round(precision_score(y_test, y_pred, average='macro'), 3))\n",
    "print(\"Recall:\", round(recall_score(y_test, y_pred, average='macro'), 3)) \n",
    "print(\"F1 Score:\", round(f1_score(y_test, y_pred, average='macro'), 3))"
   ]
  },
  {
   "cell_type": "code",
   "execution_count": null,
   "id": "7d0aaef6",
   "metadata": {},
   "outputs": [],
   "source": [
    "disp = ConfusionMatrixDisplay(confusion_matrix=cm)\n",
    "disp.plot(cmap='Oranges')\n",
    "plt.show()\n"
   ]
  },
  {
   "cell_type": "code",
   "execution_count": null,
   "id": "bce91f90",
   "metadata": {},
   "outputs": [],
   "source": [
    "df_test = pd.DataFrame(X_test)\n",
    "df_test[\"target\"] = y_test\n",
    "df_test[\"pred\"] = y_pred\n",
    "df_test"
   ]
  },
  {
   "cell_type": "code",
   "execution_count": null,
   "id": "0076994c",
   "metadata": {},
   "outputs": [],
   "source": [
    "df_falsePred = df_test.loc[df_test[\"target\"] != df_test[\"pred\"]]\n",
    "df_falsePred"
   ]
  },
  {
   "cell_type": "code",
   "execution_count": null,
   "id": "e9494226",
   "metadata": {},
   "outputs": [],
   "source": [
    "plt.figure(figsize=(15, 4))\n",
    "for i in range(len(df_falsePred)):\n",
    "    row = df_falsePred.iloc[i]\n",
    "    \n",
    "    image = row.iloc[:-2].to_numpy().reshape(8, 8)\n",
    "    true_label = int(row[\"target\"])\n",
    "    pred_label = int(row[\"pred\"])\n",
    "    \n",
    "    plt.subplot(1, len(df_falsePred), i + 1)\n",
    "    plt.imshow(image, cmap=\"gray\")\n",
    "    plt.title(f\"True: {true_label}\\nPred: {pred_label}\")\n",
    "    plt.axis(\"off\")\n",
    "\n",
    "plt.tight_layout()\n",
    "plt.show()"
   ]
  },
  {
   "cell_type": "code",
   "execution_count": null,
   "id": "872b1874",
   "metadata": {},
   "outputs": [],
   "source": [
    "# เซฟโมเดล\n",
    "import os\n",
    "import joblib\n",
    "\n",
    "os.makedirs('model', exist_ok=True)\n",
    "joblib.dump(model, './model/digit_recognizer_model.pkl')\n"
   ]
  }
 ],
 "metadata": {
  "kernelspec": {
   "display_name": "myenv",
   "language": "python",
   "name": "python3"
  },
  "language_info": {
   "codemirror_mode": {
    "name": "ipython",
    "version": 3
   },
   "file_extension": ".py",
   "mimetype": "text/x-python",
   "name": "python",
   "nbconvert_exporter": "python",
   "pygments_lexer": "ipython3",
   "version": "3.11.9"
  }
 },
 "nbformat": 4,
 "nbformat_minor": 5
}
